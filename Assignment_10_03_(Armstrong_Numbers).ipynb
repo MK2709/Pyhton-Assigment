{
  "nbformat": 4,
  "nbformat_minor": 0,
  "metadata": {
    "colab": {
      "name": "Assignment - 10/03 (Armstrong Numbers).ipynb",
      "provenance": [],
      "collapsed_sections": [],
      "authorship_tag": "ABX9TyPWfXQy0FObaNQLByYKRtDC",
      "include_colab_link": true
    },
    "kernelspec": {
      "name": "python3",
      "display_name": "Python 3"
    },
    "language_info": {
      "name": "python"
    }
  },
  "cells": [
    {
      "cell_type": "markdown",
      "metadata": {
        "id": "view-in-github",
        "colab_type": "text"
      },
      "source": [
        "<a href=\"https://colab.research.google.com/github/MK2709/Pyhton-Assigment/blob/main/Assignment_10_03_(Armstrong_Numbers).ipynb\" target=\"_parent\"><img src=\"https://colab.research.google.com/assets/colab-badge.svg\" alt=\"Open In Colab\"/></a>"
      ]
    },
    {
      "cell_type": "code",
      "execution_count": 5,
      "metadata": {
        "colab": {
          "base_uri": "https://localhost:8080/"
        },
        "id": "tGpgJJkvoB3s",
        "outputId": "23d12396-c693-4924-a938-4d0dec749bb9"
      },
      "outputs": [
        {
          "output_type": "stream",
          "name": "stdout",
          "text": [
            "Please enter a positive integer number : 56.5\n",
            "It is an invalid entry. Don't use non-numeric, float, or negative values!\n"
          ]
        }
      ],
      "source": [
        "num_1=input(\"Please enter a positive integer number : \")\n",
        "while num_1.isdigit() :\n",
        "  num_1=str(num_1)\n",
        "  list_1=list(num_1)\n",
        "  y = 0\n",
        "  for i in list_1:\n",
        "    y+=(int(i)**len(list_1))\n",
        "  print ('Calculation is ',y)\n",
        "  if y==int(num_1) :\n",
        "    print(\"{} is an Amstrong number\".format(num_1))\n",
        "    break\n",
        "  else:\n",
        "    print(\"{} is NOT an Amstrong number\".format(num_1)) \n",
        "    break\n",
        "else:\n",
        "  print(\"It is an invalid entry. Don't use non-numeric, float, or negative values!\")"
      ]
    },
    {
      "cell_type": "code",
      "source": [
        ""
      ],
      "metadata": {
        "id": "gzC3RlbmoPkH"
      },
      "execution_count": 4,
      "outputs": []
    }
  ]
}