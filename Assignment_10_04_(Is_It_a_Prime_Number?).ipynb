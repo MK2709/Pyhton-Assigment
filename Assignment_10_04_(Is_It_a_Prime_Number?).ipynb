{
  "nbformat": 4,
  "nbformat_minor": 0,
  "metadata": {
    "colab": {
      "name": "Assignment - 10/04 (Is It a Prime Number?).ipynb",
      "provenance": [],
      "collapsed_sections": [],
      "authorship_tag": "ABX9TyNIoeaWfk4iUgz2+B7w3n8J",
      "include_colab_link": true
    },
    "kernelspec": {
      "name": "python3",
      "display_name": "Python 3"
    },
    "language_info": {
      "name": "python"
    }
  },
  "cells": [
    {
      "cell_type": "markdown",
      "metadata": {
        "id": "view-in-github",
        "colab_type": "text"
      },
      "source": [
        "<a href=\"https://colab.research.google.com/github/MK2709/Pyhton-Assigment/blob/main/Assignment_10_04_(Is_It_a_Prime_Number%3F).ipynb\" target=\"_parent\"><img src=\"https://colab.research.google.com/assets/colab-badge.svg\" alt=\"Open In Colab\"/></a>"
      ]
    },
    {
      "cell_type": "markdown",
      "source": [
        ""
      ],
      "metadata": {
        "id": "-MsrGiP30HJF"
      }
    },
    {
      "cell_type": "code",
      "execution_count": null,
      "metadata": {
        "id": "x7KiB0V70EPw"
      },
      "outputs": [],
      "source": [
        "sayi= int(input(\"Please enter a positive number : \"))\n",
        "\n",
        "for j in range(2,sayi+1) :\n",
        "  if sayi ==2 :\n",
        "    print(\"'{}' is a Prime number\".format(sayi))\n",
        "  elif sayi%j !=0:\n",
        "    print(\"'{}' is a prime number\".format(sayi))\n",
        "    break\n",
        "  else :\n",
        "    print(\"'{}' is NOT a prime number\".format(sayi))\n",
        "    break"
      ]
    }
  ]
}