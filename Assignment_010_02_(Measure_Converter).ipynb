{
  "nbformat": 4,
  "nbformat_minor": 0,
  "metadata": {
    "colab": {
      "name": "Assignment - 010/02 (Measure Converter).ipynb",
      "provenance": [],
      "collapsed_sections": [],
      "authorship_tag": "ABX9TyOi6HN2XGuQI+99xPiu+TQv",
      "include_colab_link": true
    },
    "kernelspec": {
      "name": "python3",
      "display_name": "Python 3"
    },
    "language_info": {
      "name": "python"
    }
  },
  "cells": [
    {
      "cell_type": "markdown",
      "metadata": {
        "id": "view-in-github",
        "colab_type": "text"
      },
      "source": [
        "<a href=\"https://colab.research.google.com/github/MK2709/Pyhton-Assigment/blob/main/Assignment_010_02_(Measure_Converter).ipynb\" target=\"_parent\"><img src=\"https://colab.research.google.com/assets/colab-badge.svg\" alt=\"Open In Colab\"/></a>"
      ]
    },
    {
      "cell_type": "markdown",
      "source": [
        "Assignment - 010/02 (Measure Converter)\n",
        "Task-2:\n",
        "Write a short Python program that asks the user to enter a distance (it can be a decimal number) in kilometers, converts the entered distance into miles and prints the result."
      ],
      "metadata": {
        "id": "FsU-kYLHvZlI"
      }
    },
    {
      "cell_type": "code",
      "source": [
        "kilometer= float(input('Please enter distance in kilometers : '))\n",
        "miles= kilometer *0.6214\n",
        "print('{} km is equal to {:.2f} miles'.format(kilometer,miles)) #{:.2f} ifadesi virgulden sonraki 2 basamak\n",
        "distance=f'{kilometer} is equal to {miles} miles.'\n",
        "print(distance)\n",
        "print(kilometer)\n",
        "print(miles)"
      ],
      "metadata": {
        "colab": {
          "base_uri": "https://localhost:8080/",
          "height": 130
        },
        "id": "bkp-L9Pxvfbt",
        "outputId": "818ba869-6635-4c0a-d8cc-e25245d944f6"
      },
      "execution_count": 3,
      "outputs": [
        {
          "output_type": "error",
          "ename": "SyntaxError",
          "evalue": "ignored",
          "traceback": [
            "\u001b[0;36m  File \u001b[0;32m\"<fstring>\"\u001b[0;36m, line \u001b[0;32m1\u001b[0m\n\u001b[0;31m    (.2f miles)\u001b[0m\n\u001b[0m       ^\u001b[0m\n\u001b[0;31mSyntaxError\u001b[0m\u001b[0;31m:\u001b[0m invalid syntax\n"
          ]
        }
      ]
    },
    {
      "cell_type": "code",
      "source": [
        ""
      ],
      "metadata": {
        "id": "gPALgA1CvgPF"
      },
      "execution_count": null,
      "outputs": []
    }
  ]
}