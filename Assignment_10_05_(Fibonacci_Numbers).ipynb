{
  "nbformat": 4,
  "nbformat_minor": 0,
  "metadata": {
    "colab": {
      "name": "Assignment - 10/05 (Fibonacci Numbers).ipynb",
      "provenance": [],
      "authorship_tag": "ABX9TyPWUevlWiUfSY8ZnI6JqP+1",
      "include_colab_link": true
    },
    "kernelspec": {
      "name": "python3",
      "display_name": "Python 3"
    },
    "language_info": {
      "name": "python"
    }
  },
  "cells": [
    {
      "cell_type": "markdown",
      "metadata": {
        "id": "view-in-github",
        "colab_type": "text"
      },
      "source": [
        "<a href=\"https://colab.research.google.com/github/MK2709/Pyhton-Assigment/blob/main/Assignment_10_05_(Fibonacci_Numbers).ipynb\" target=\"_parent\"><img src=\"https://colab.research.google.com/assets/colab-badge.svg\" alt=\"Open In Colab\"/></a>"
      ]
    },
    {
      "cell_type": "code",
      "metadata": {
        "id": "u6seyKxyrpjO"
      },
      "source": [
        "list_fabionacci=[1]\n",
        "sum=1\n",
        "for i in range (0, 9):\n",
        "  list_fabionacci.append(sum)\n",
        "  sum = sum + list_fabionacci[i]\n",
        "print(list_fabionacci)\n"
      ],
      "execution_count": null,
      "outputs": []
    }
  ]
}