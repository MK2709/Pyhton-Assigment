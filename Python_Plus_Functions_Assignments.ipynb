{
  "nbformat": 4,
  "nbformat_minor": 0,
  "metadata": {
    "colab": {
      "name": "Python_Plus_Functions_Assignments.ipynb",
      "provenance": [],
      "collapsed_sections": [],
      "authorship_tag": "ABX9TyMfVafo55F/D3v3fgfLAavw",
      "include_colab_link": true
    },
    "kernelspec": {
      "name": "python3",
      "display_name": "Python 3"
    },
    "language_info": {
      "name": "python"
    }
  },
  "cells": [
    {
      "cell_type": "markdown",
      "metadata": {
        "id": "view-in-github",
        "colab_type": "text"
      },
      "source": [
        "<a href=\"https://colab.research.google.com/github/MK2709/Pyhton-Assigment/blob/main/Python_Plus_Functions_Assignments.ipynb\" target=\"_parent\"><img src=\"https://colab.research.google.com/assets/colab-badge.svg\" alt=\"Open In Colab\"/></a>"
      ]
    },
    {
      "cell_type": "markdown",
      "source": [
        "Assignment - 1 (Doubler)\n",
        "\n",
        "Given two integer values, return their sum. If the two values are the same, then return double their sum."
      ],
      "metadata": {
        "id": "UdvCNKqfpF3h"
      }
    },
    {
      "cell_type": "code",
      "execution_count": null,
      "metadata": {
        "colab": {
          "base_uri": "https://localhost:8080/"
        },
        "id": "NAVLHIwvoIY8",
        "outputId": "27bc8dc8-4649-4310-9415-ea4057de09ca"
      },
      "outputs": [
        {
          "output_type": "stream",
          "name": "stdout",
          "text": [
            "3\n",
            "12\n",
            "20\n"
          ]
        }
      ],
      "source": [
        "def sum_double(x, y):\n",
        "    if x==y :\n",
        "        return (x+y)*2\n",
        "    else :\n",
        "        return (x+y)\n",
        "\n",
        "print(sum_double(1, 2))\n",
        "print(sum_double(5, 7))\n",
        "print(sum_double(5, 5))"
      ]
    },
    {
      "cell_type": "markdown",
      "source": [
        "Assignment - 2 (Parrot Trouble)\n",
        "\n",
        "Define a function taking two parameters (talking and hour) to return True if we are in trouble. The argument to  talking parameter can only be True or False whether it is talking or not. The argument to hour parameter should be the current hour time in the range of 0 to 23."
      ],
      "metadata": {
        "id": "GRfQMpVno4xi"
      }
    },
    {
      "cell_type": "code",
      "source": [
        "def parrot_trouble(talking, hour):\n",
        "    if talking == True and (hour<6 or hour>21):\n",
        "        return \"True\"\n",
        "    else:\n",
        "        return \"False\"\n",
        "print(parrot_trouble(True, 5))\n",
        "print(parrot_trouble(True, 8))\n",
        "print(parrot_trouble(False, 22))\n"
      ],
      "metadata": {
        "colab": {
          "base_uri": "https://localhost:8080/"
        },
        "id": "QNdbz0fqobyo",
        "outputId": "fba90d53-3663-4bf8-fae6-dcea811d74c7"
      },
      "execution_count": null,
      "outputs": [
        {
          "output_type": "stream",
          "name": "stdout",
          "text": [
            "True\n",
            "False\n",
            "False\n"
          ]
        }
      ]
    },
    {
      "cell_type": "markdown",
      "source": [
        "Assignment - 3 (Negative Meaning)\n",
        "\n",
        "\n",
        "Define a function to take a word and return negative meaning."
      ],
      "metadata": {
        "id": "PMvTFzV-odLB"
      }
    },
    {
      "cell_type": "code",
      "source": [
        "def not_string(word):\n",
        "  liste_1=word.split()\n",
        "  if liste_1[0] != \"not\" :\n",
        "    new_word=\"not \"+word \n",
        "    return new_word\n",
        "  else: \n",
        "    return word\n",
        "\n",
        "print(not_string('not bad'))\n",
        "print(not_string('Good'))\n"
      ],
      "metadata": {
        "id": "C0Qmt6BjoboR"
      },
      "execution_count": null,
      "outputs": []
    },
    {
      "cell_type": "markdown",
      "source": [
        "Assignment - 4 (Missing Char)\n",
        "\n",
        "Given a non-empty string and an int n, return a new string where the character at index n has been removed. The value of n will be a valid index of a character in the original string (i.e. n will be in the range 0....len(str)-1 inclusive)."
      ],
      "metadata": {
        "id": "WPOzbnnbqCOj"
      }
    },
    {
      "cell_type": "code",
      "source": [
        "def missing_char(word, n):\n",
        "  word=list(word)\n",
        "  word.pop(n)\n",
        "  x=\"\".join(word)\n",
        "  return x\n",
        "print(missing_char('kitchen', 1))\n",
        "print(missing_char('kitchen', 4))\n",
        "print(missing_char('kitchen', 0))"
      ],
      "metadata": {
        "id": "SSQuuuzwobeP"
      },
      "execution_count": null,
      "outputs": []
    },
    {
      "cell_type": "markdown",
      "source": [
        "Assignment - 5 (Front-Back Char)\n",
        "\n",
        "\n",
        "Given a string, return a new string\n",
        "where the first and last chars have\n",
        "been exchanged."
      ],
      "metadata": {
        "id": "-Porf9udA9RV"
      }
    },
    {
      "cell_type": "code",
      "source": [
        "def front_back(word):\n",
        "  word=list(word)\n",
        "  n=len(word)\n",
        "  z=word[0]\n",
        "  word[0]=word[n-1]\n",
        "  word[n-1]=z\n",
        "  x=\"\".join(word)\n",
        "  return x\n",
        "\n",
        "print(front_back('clarusway'))\n",
        "print(front_back('a'))\n",
        "print(front_back('ab'))\n",
        "\n"
      ],
      "metadata": {
        "id": "bQGoyEWns4iq",
        "colab": {
          "base_uri": "https://localhost:8080/"
        },
        "outputId": "2d5886be-1790-4ad4-fc20-41687cd71f42"
      },
      "execution_count": null,
      "outputs": [
        {
          "output_type": "stream",
          "name": "stdout",
          "text": [
            "ylaruswac\n",
            "a\n",
            "ba\n"
          ]
        }
      ]
    },
    {
      "cell_type": "markdown",
      "source": [
        "Assignment - 6 (Find Minimum)\n",
        "\n",
        "Define a function named my_min to find the min of the inputted numbers."
      ],
      "metadata": {
        "id": "pzthTS-4PgPt"
      }
    },
    {
      "cell_type": "code",
      "source": [
        "def my_min(*n) :\n",
        "  for i in n :\n",
        "   return i\n",
        "min_=filetr(lambda x: if x< n in )\n",
        "print(my_min(4,5,6,7))\n",
        "#print(my_min(3,8,-9,0,12,1.2))\n",
        "#print(my_min(-100))"
      ],
      "metadata": {
        "colab": {
          "base_uri": "https://localhost:8080/"
        },
        "id": "rvXMS-hEP2BH",
        "outputId": "81219841-ec9a-4ce6-d246-38866e086c68"
      },
      "execution_count": null,
      "outputs": [
        {
          "output_type": "stream",
          "name": "stdout",
          "text": [
            "4\n"
          ]
        }
      ]
    },
    {
      "cell_type": "code",
      "source": [
        "number_list=[1, 2, 3, 4, 5, 6, 7, 8, 9, 10]\n",
        "sayılar_1= filter(lambda x:True if x >= 6 in number_list else False, number_list)\n",
        "print(list(sayılar_1))\n",
        "sayılar_odd= filter(lambda x:True if x %2  in number_list else False, number_list)\n",
        "print(list(sayılar_odd))\n",
        "sayılar_even= filter(lambda x:False if x%2 in number_list else True, number_list)\n",
        "print(list(sayılar_even))"
      ],
      "metadata": {
        "id": "WdFo1WbNUQrF"
      },
      "execution_count": null,
      "outputs": []
    },
    {
      "cell_type": "code",
      "source": [
        ""
      ],
      "metadata": {
        "id": "PGakwVQmXhhD"
      },
      "execution_count": null,
      "outputs": []
    }
  ]
}