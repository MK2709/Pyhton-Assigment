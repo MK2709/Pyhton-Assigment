{
  "nbformat": 4,
  "nbformat_minor": 0,
  "metadata": {
    "colab": {
      "name": "Assignment - 10/06 (Prime Numbers).ipynb",
      "provenance": [],
      "collapsed_sections": [],
      "authorship_tag": "ABX9TyMk6wvCnX6u7VC4ykKSqRH2",
      "include_colab_link": true
    },
    "kernelspec": {
      "name": "python3",
      "display_name": "Python 3"
    },
    "language_info": {
      "name": "python"
    }
  },
  "cells": [
    {
      "cell_type": "markdown",
      "metadata": {
        "id": "view-in-github",
        "colab_type": "text"
      },
      "source": [
        "<a href=\"https://colab.research.google.com/github/MK2709/Pyhton-Assigment/blob/main/Assignment_10_06_(Prime_Numbers).ipynb\" target=\"_parent\"><img src=\"https://colab.research.google.com/assets/colab-badge.svg\" alt=\"Open In Colab\"/></a>"
      ]
    },
    {
      "cell_type": "code",
      "source": [
        "#Assignment - 10/06 (Prime Numbers)\n",
        "#Task : Print the prime numbers which are between 1 to entered limit number (n).\n",
        "#You can use a nested for loop.\n",
        "#Collect all these numbers into a list\n",
        "#The desired output for n=100 :\n",
        "\n",
        "prime_list=[]\n",
        "limit = int(input(\"Please enter your highest number : \"))\n",
        "for x in range(2,limit):\n",
        "  for y in range(2,x):\n",
        "    if (x%y)==0:\n",
        "      break\n",
        "  else: #asal sayi sadece kendisine ve 1 e bolunebilecegi icin for dongusu cikisinda olmasi gerekiyor else in\n",
        "     prime_list.append(x) \n",
        "print(prime_list)\n",
        "   \n",
        "#[2, 3, 5, 7, 11, 13, 17, 19, 23, 29, 31, 37, 41, 43, 47, 53, 59,\n",
        "#61, 67, 71, 73, 79, 83, 89, 97]"
      ],
      "metadata": {
        "id": "asg6pVkbHHDQ",
        "colab": {
          "base_uri": "https://localhost:8080/"
        },
        "outputId": "c7e4353b-c061-4b1a-a6d8-e08520416338"
      },
      "execution_count": 75,
      "outputs": [
        {
          "output_type": "stream",
          "name": "stdout",
          "text": [
            "Please enter your highest number : 100\n",
            "[2, 3, 5, 7, 11, 13, 17, 19, 23, 29, 31, 37, 41, 43, 47, 53, 59, 61, 67, 71, 73, 79, 83, 89, 97]\n"
          ]
        }
      ]
    },
    {
      "cell_type": "code",
      "source": [
        ""
      ],
      "metadata": {
        "id": "DyVagJ1QZ3I2"
      },
      "execution_count": null,
      "outputs": []
    },
    {
      "cell_type": "code",
      "source": [
        ""
      ],
      "metadata": {
        "id": "3-XGZXoEZ3EN"
      },
      "execution_count": null,
      "outputs": []
    },
    {
      "cell_type": "code",
      "source": [
        ""
      ],
      "metadata": {
        "id": "zAtATKkHZ3Ad"
      },
      "execution_count": null,
      "outputs": []
    },
    {
      "cell_type": "code",
      "source": [
        ""
      ],
      "metadata": {
        "id": "LTKAquYWZ28O"
      },
      "execution_count": null,
      "outputs": []
    },
    {
      "cell_type": "code",
      "source": [
        ""
      ],
      "metadata": {
        "id": "RQmbbrymZ24d"
      },
      "execution_count": null,
      "outputs": []
    },
    {
      "cell_type": "code",
      "source": [
        ""
      ],
      "metadata": {
        "id": "DtF__-IWZ2wm"
      },
      "execution_count": null,
      "outputs": []
    },
    {
      "cell_type": "code",
      "source": [
        ""
      ],
      "metadata": {
        "id": "mAO0nmNCZ2me"
      },
      "execution_count": null,
      "outputs": []
    }
  ]
}