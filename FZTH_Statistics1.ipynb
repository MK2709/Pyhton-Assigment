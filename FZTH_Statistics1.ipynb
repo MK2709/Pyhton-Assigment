{
  "nbformat": 4,
  "nbformat_minor": 0,
  "metadata": {
    "colab": {
      "name": "FZTH_Statistics1.ipynb",
      "provenance": [],
      "authorship_tag": "ABX9TyOgoYr7FVwSqX25CQgfW0dz",
      "include_colab_link": true
    },
    "kernelspec": {
      "name": "python3",
      "display_name": "Python 3"
    },
    "language_info": {
      "name": "python"
    }
  },
  "cells": [
    {
      "cell_type": "markdown",
      "metadata": {
        "id": "view-in-github",
        "colab_type": "text"
      },
      "source": [
        "<a href=\"https://colab.research.google.com/github/MK2709/Pyhton-Assigment/blob/main/FZTH_Statistics1.ipynb\" target=\"_parent\"><img src=\"https://colab.research.google.com/assets/colab-badge.svg\" alt=\"Open In Colab\"/></a>"
      ]
    },
    {
      "cell_type": "code",
      "execution_count": null,
      "metadata": {
        "colab": {
          "base_uri": "https://localhost:8080/"
        },
        "id": "HPWURfkxcxZf",
        "outputId": "e9a387f6-35cb-412c-edd4-66558c0b88bb"
      },
      "outputs": [
        {
          "output_type": "stream",
          "name": "stdout",
          "text": [
            "mean: 37.0\n",
            "median: 30.0\n",
            "mode: ModeResult(mode=array([33]), count=array([3]))\n",
            "\n",
            "\n",
            "mean: 10.7\n",
            "median: 9.0\n",
            "mode: ModeResult(mode=array([0]), count=array([1]))\n"
          ]
        }
      ],
      "source": [
        "import numpy as np\n",
        "from scipy import stats\n",
        "\n",
        "salary = [102, 33, 26, 27, 30, 25, 33, 33, 24]\n",
        "salary_2= [1, 10, 7, 12, 0, 30, 15, 22, 8, 2]\n",
        "\n",
        "mean_salary = np.mean(salary)\n",
        "print(\"mean:\", mean_salary)\n",
        "\n",
        "median_salary = np.median(salary)\n",
        "print(\"median:\", median_salary)\n",
        "\n",
        "mode_salary = stats.mode(salary)\n",
        "print(\"mode:\", mode_salary)\n",
        "print()\n",
        "print()\n",
        "mean_salary_2 = np.mean(salary_2)\n",
        "print(\"mean:\", mean_salary_2)\n",
        "\n",
        "median_salary_2 = np.median(salary_2)\n",
        "print(\"median:\", median_salary_2)\n",
        "\n",
        "mode_salary_2 = stats.mode(salary_2)\n",
        "print(\"mode:\", mode_salary_2)\n",
        "\n"
      ]
    },
    {
      "cell_type": "code",
      "source": [
        "import numpy as np\n",
        "\n",
        "salary = [102, 33, 26, 27, 30, 25, 33, 33, 24]\n",
        "\n",
        "print(\"Range: \", (np.max(salary)-np.min(salary)))\n",
        "\n",
        "print(\"Variance: \", (np.var(salary)))\n",
        "\n",
        "print(\"Std: \", (np.std(salary)))"
      ],
      "metadata": {
        "colab": {
          "base_uri": "https://localhost:8080/"
        },
        "id": "BUUM7M-nc5NP",
        "outputId": "868567f4-1585-4709-90b4-9016102227ad"
      },
      "execution_count": null,
      "outputs": [
        {
          "output_type": "stream",
          "name": "stdout",
          "text": [
            "Range:  78\n",
            "Variance:  539.5555555555555\n",
            "Std:  23.22833518691246\n"
          ]
        }
      ]
    },
    {
      "cell_type": "code",
      "source": [
        "import numpy as np\n",
        "\n",
        "salary = [1, 10, 7, 12, 0, 30, 15, 22, 8, 2]\n",
        "\n",
        "print(\"Range: \", (np.max(salary)-np.min(salary)))\n",
        "\n",
        "print(\"Variance: \", (np.var(salary)))\n",
        "\n",
        "print(\"Std: \", (np.std(salary)))"
      ],
      "metadata": {
        "colab": {
          "base_uri": "https://localhost:8080/"
        },
        "id": "-mF-wkDRmRZc",
        "outputId": "44836af1-6ea7-40c1-c704-ba7a9fccbc81"
      },
      "execution_count": null,
      "outputs": [
        {
          "output_type": "stream",
          "name": "stdout",
          "text": [
            "Range:  30\n",
            "Variance:  82.61\n",
            "Std:  9.089004345911603\n"
          ]
        }
      ]
    },
    {
      "cell_type": "code",
      "source": [
        "listem=[9, 11, 4, 14, 8, 2, 10, 3, 10, 9, 6, 0, 1]\n",
        "listem_2=[8, 10, 4, 24, 8, 3, 10, 3, 40, 7, 6, 12, 4]\n",
        "\n",
        "print(sorted(listem))\n",
        "print(sorted(listem_2))\n"
      ],
      "metadata": {
        "colab": {
          "base_uri": "https://localhost:8080/"
        },
        "id": "7SC6UYgvqQc9",
        "outputId": "d2954e4f-d2af-417b-d1af-ccda32abfe2e"
      },
      "execution_count": null,
      "outputs": [
        {
          "output_type": "stream",
          "name": "stdout",
          "text": [
            "[0, 1, 2, 3, 4, 6, 8, 9, 9, 10, 10, 11, 14]\n",
            "[3, 3, 4, 4, 6, 7, 8, 8, 10, 10, 12, 24, 40]\n"
          ]
        }
      ]
    },
    {
      "cell_type": "code",
      "source": [
        "\n",
        "temp=[93,84,82,78,98,70]\n",
        "\n",
        "number_of_people=[13,10, 11, 8, 15, 9]\n",
        "\n",
        "print(\"covariance: \", np.cov(temp, number_of_people))\n",
        "\n",
        "print(\"correlation: \", np.corrcoef(temp, number_of_people))\n",
        "\n"
      ],
      "metadata": {
        "colab": {
          "base_uri": "https://localhost:8080/"
        },
        "id": "pYKY8OrAqpIj",
        "outputId": "373c0e02-46a4-4f79-b313-e6ae658156ae"
      },
      "execution_count": null,
      "outputs": [
        {
          "output_type": "stream",
          "name": "stdout",
          "text": [
            "covariance:  [[102.56666667  24.        ]\n",
            " [ 24.           6.8       ]]\n",
            "correlation:  [[1.         0.90876934]\n",
            " [0.90876934 1.        ]]\n"
          ]
        }
      ]
    },
    {
      "cell_type": "code",
      "source": [
        ""
      ],
      "metadata": {
        "id": "tAkHbjMG458B"
      },
      "execution_count": null,
      "outputs": []
    }
  ]
}