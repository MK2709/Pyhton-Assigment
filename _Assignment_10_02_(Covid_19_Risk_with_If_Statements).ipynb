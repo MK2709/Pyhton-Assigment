{
  "nbformat": 4,
  "nbformat_minor": 0,
  "metadata": {
    "colab": {
      "name": "#Assignment - 10/02 (Covid-19 Risk with If Statements).ipynb",
      "provenance": [],
      "collapsed_sections": [],
      "authorship_tag": "ABX9TyO3br/eE0rekkilb8NYek+S",
      "include_colab_link": true
    },
    "kernelspec": {
      "name": "python3",
      "display_name": "Python 3"
    },
    "language_info": {
      "name": "python"
    }
  },
  "cells": [
    {
      "cell_type": "markdown",
      "metadata": {
        "id": "view-in-github",
        "colab_type": "text"
      },
      "source": [
        "<a href=\"https://colab.research.google.com/github/MK2709/Pyhton-Assigment/blob/main/_Assignment_10_02_(Covid_19_Risk_with_If_Statements).ipynb\" target=\"_parent\"><img src=\"https://colab.research.google.com/assets/colab-badge.svg\" alt=\"Open In Colab\"/></a>"
      ]
    },
    {
      "cell_type": "code",
      "metadata": {
        "colab": {
          "base_uri": "https://localhost:8080/"
        },
        "id": "Xpm6Aw6pwdvk",
        "outputId": "2257f292-d97c-42e8-9f50-34942b8ca115"
      },
      "source": [
        "#Assignment - 10/02 (Covid-19 Risk with If Statements)\n",
        "age = input(\"Are you cigarette addict older than 75 years old? : \")\n",
        "if age.lower() == \"yes\":\n",
        "    age_Bool = True \n",
        "elif age.lower() == \"no\":\n",
        "    age_Bool = False \n",
        "chronic = input(\"Do you have a severe chronic disease? : \")\n",
        "if chronic.lower() == \"yes\":\n",
        "    chronic_Bool = True\n",
        "elif chronic.lower() == \"no\":\n",
        "    chronic_Bool = False \n",
        "immune = input(\"Is your immune system too weak? : \")\n",
        "if immune.lower() == \"yes\":\n",
        "    immune_Bool = True\n",
        "elif immune.lower() == \"no\":\n",
        "  immune_Bool = False \n",
        "\n",
        "if age_Bool  or chronic_Bool or immune_Bool == True:\n",
        "  print(\"You are in risky group\")\n",
        "else :\n",
        "  print(\"You are not in risky group\")"
      ],
      "execution_count": null,
      "outputs": [
        {
          "output_type": "stream",
          "name": "stdout",
          "text": [
            "Are you cigarette addict older than 75 years old? : yes\n",
            "Do you have a severe chronic disease? : no\n",
            "Is your immune system too weak? : no\n",
            "You are in risky group\n"
          ]
        }
      ]
    },
    {
      "cell_type": "code",
      "metadata": {
        "id": "sJ92nWGhwkGT"
      },
      "source": [
        "#Assignment - 10/02 (Covid-19 Risk with If Statements) with details\n",
        "\n",
        "age = input(\"Are you cigarette addict older than 75 years old? : \")\n",
        "if age.lower() == \"yes\":\n",
        "    age_Bool = True \n",
        "else:\n",
        "    age_Bool = False \n",
        "print(age_Bool)\n",
        "\n",
        "chronic = input(\"Do you have a severe chronic disease? : \")\n",
        "if chronic.lower() == \"yes\":\n",
        "  chronic_Bool = True\n",
        "else:\n",
        "    chronic_Bool = False \n",
        "print(chronic_Bool)\n",
        "\n",
        "immune = input(\"Is your immune system too weak? : \")\n",
        "if immune.lower() == \"yes\":\n",
        "    immune_Bool = True\n",
        "else:\n",
        "  immune_Bool = False \n",
        "print(immune_Bool)\n",
        "print(\"\")\n",
        "print(age_Bool , chronic_Bool, immune_Bool)\n",
        "print(\"\")\n",
        "if age_Bool  or chronic_Bool or immune_Bool == True :\n",
        "  print(\"You are in risky group\")\n",
        "else :\n",
        "  print(\"You are not in risky group\")"
      ],
      "execution_count": null,
      "outputs": []
    }
  ]
}