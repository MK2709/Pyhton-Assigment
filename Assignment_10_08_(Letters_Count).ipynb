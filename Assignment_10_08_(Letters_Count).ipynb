{
  "nbformat": 4,
  "nbformat_minor": 0,
  "metadata": {
    "colab": {
      "name": "Assignment - 10/08 (Letters Count).ipynb",
      "provenance": [],
      "collapsed_sections": [],
      "authorship_tag": "ABX9TyPHGqGWwEAkAWakXM2AGoZs",
      "include_colab_link": true
    },
    "kernelspec": {
      "name": "python3",
      "display_name": "Python 3"
    },
    "language_info": {
      "name": "python"
    }
  },
  "cells": [
    {
      "cell_type": "markdown",
      "metadata": {
        "id": "view-in-github",
        "colab_type": "text"
      },
      "source": [
        "<a href=\"https://colab.research.google.com/github/MK2709/Pyhton-Assigment/blob/main/Assignment_10_08_(Letters_Count).ipynb\" target=\"_parent\"><img src=\"https://colab.research.google.com/assets/colab-badge.svg\" alt=\"Open In Colab\"/></a>"
      ]
    },
    {
      "cell_type": "markdown",
      "source": [
        "Count the number of each letter in a sentence.\n",
        "The department you work for undertook a project construction that makes word / text analysis. You are asked to calculate the number of letters or any chars in the sentences entered under this project.\n",
        "Write a Python program that;\n",
        "takes a sentence from the user,\n",
        "counts the number of each letter of the sentence,\n",
        "collects the letters/chars as a key and the counted numbers as a value in a dictionary."
      ],
      "metadata": {
        "id": "eudaNjxBWjeP"
      }
    },
    {
      "cell_type": "code",
      "execution_count": 5,
      "metadata": {
        "colab": {
          "base_uri": "https://localhost:8080/"
        },
        "id": "dy3aBCbNVBjx",
        "outputId": "e21f0525-86aa-422f-c741-13814886c9ba"
      },
      "outputs": [
        {
          "output_type": "stream",
          "name": "stdout",
          "text": [
            "please enter your sentencegalskgdflkjgdlfs fdsjslkadlf fjlskla\n",
            "{'g': 3, 'a': 3, 'l': 7, 's': 5, 'k': 4, 'd': 4, 'f': 5, 'j': 3, ' ': 2}\n"
          ]
        }
      ],
      "source": [
        "sentence= input(\"please enter your sentence\")\n",
        "word_dict={}\n",
        "for n in sentence :\n",
        "  if n in word_dict:\n",
        "    word_dict [n] +=1\n",
        "  else :\n",
        "    word_dict[n]=1\n",
        "print(word_dict)\n"
      ]
    },
    {
      "cell_type": "code",
      "source": [
        ""
      ],
      "metadata": {
        "id": "b2ZRQVcFVF7N"
      },
      "execution_count": null,
      "outputs": []
    }
  ]
}